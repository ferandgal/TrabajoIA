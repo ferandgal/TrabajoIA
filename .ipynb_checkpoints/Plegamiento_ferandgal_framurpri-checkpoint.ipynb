{
 "cells": [
  {
   "cell_type": "markdown",
   "metadata": {},
   "source": [
    "# PLEGAMIENTO DE PROTEÍNAS 2D"
   ]
  },
  {
   "cell_type": "markdown",
   "metadata": {},
   "source": [
    "### Realizado por: Fernando Andrés Galindo y Francisco Murillo Prior"
   ]
  },
  {
   "cell_type": "markdown",
   "metadata": {},
   "source": [
    "##### Objetivos\n",
    "• Comprender la teoría básica detrás del plegamiento de proteínas y la `paradoja de Levinthal`. Comparar estos conceptos con un problema de optimización.\n",
    "\n",
    "• Identificar las distintas disciplinas necesarias para estudiar la paradoja de Levinthal. Entender la importancia de la `multidisciplinariedad`.\n",
    "\n",
    "• Aprender a implementar un algoritmo en base a un modelo de plegamiento de proteínas 2D.\n",
    "\n",
    "• Realizar gráficos con pyplot para representar los plegamientos de proteínas 2D.\n",
    "\n",
    "• Aprender a usar la base de datos de proteínas `UNIPROT`.\n",
    "\n",
    "• Documentar el trabajo realizado usando un formato de artículo científico. \n",
    "\n",
    "• Realizar una presentación de los resultados obtenidos. "
   ]
  },
  {
   "cell_type": "markdown",
   "metadata": {},
   "source": [
    "Diccionario con los `20 aminoacidos` y sus correspondientes valores de la variación de `Energía libre`:"
   ]
  },
  {
   "cell_type": "code",
   "execution_count": 12,
   "metadata": {},
   "outputs": [
    {
     "name": "stdout",
     "output_type": "stream",
     "text": [
      "{'A': 1, 'C': 0.17, 'D': -3, 'E': -2.6, 'F': 2.5, 'G': 0.67, 'H': -1.7, 'I': 3.1, 'K': -4.6, 'L': 2.2, 'M': 1.1, 'N': -2.7, 'P': -0.29, 'Q': -2.9, 'R': -7.5, 'S': -1.1, 'T': -0.75, 'V': 2.3, 'W': 1.5, 'Y': 0.08}\n"
     ]
    }
   ],
   "source": [
    "Paa_deltaG = { \n",
    "'A': 1, # Alanine\n",
    "'C': 0.17, # Cysteine\n",
    "'D': -3, # Aspartic Acid\n",
    "'E': -2.6, # Glutamic Acid\n",
    "'F': 2.5, # Phenylalanine\n",
    "'G': 0.67, # Glycine\n",
    "'H': -1.7, # Histidine\n",
    "'I': 3.1, # Isoleucine\n",
    "'K': -4.6, # Lysine\n",
    "'L': 2.2, # Leucine\n",
    "'M': 1.1, # Methionine\n",
    "'N': -2.7, # Asparagine\n",
    "'P': -0.29,# Proline\n",
    "'Q': -2.9, # Glutamine\n",
    "'R': -7.5, # Arginine\n",
    "'S': -1.1, # Serine\n",
    "'T': -0.75,# Threonine\n",
    "'V': 2.3, # Valine\n",
    "'W': 1.5, # Tryptophan\n",
    "'Y': 0.08 # Tyrosine\n",
    " }\n",
    " \n",
    "print(Paa_deltaG)"
   ]
  },
  {
   "cell_type": "code",
   "execution_count": 11,
   "metadata": {},
   "outputs": [],
   "source": [
    "#####Clasificación de aminoácidos si son hidrofílicos (Energía libre < -1.5) o hidrofóbicos (Energía libre > -1.5)"
   ]
  },
  {
   "cell_type": "code",
   "execution_count": 13,
   "metadata": {},
   "outputs": [],
   "source": [
    "def is_hydrofobic(aa):\n",
    "    res = False;\n",
    "    for aminoacido, energia in Paa_deltaG.items():\n",
    "        if aminoacido == aa:\n",
    "            res = energia > -1.5\n",
    "    return res;"
   ]
  },
  {
   "cell_type": "code",
   "execution_count": 15,
   "metadata": {},
   "outputs": [
    {
     "data": {
      "text/plain": [
       "False"
      ]
     },
     "execution_count": 15,
     "metadata": {},
     "output_type": "execute_result"
    }
   ],
   "source": [
    "is_hydrofobic('Q')"
   ]
  },
  {
   "cell_type": "code",
   "execution_count": 1,
   "metadata": {},
   "outputs": [
    {
     "ename": "AttributeError",
     "evalue": "'str' object has no attribute 'len'",
     "output_type": "error",
     "traceback": [
      "\u001b[1;31m---------------------------------------------------------------------------\u001b[0m",
      "\u001b[1;31mAttributeError\u001b[0m                            Traceback (most recent call last)",
      "\u001b[1;32m<ipython-input-1-0f67cd7d41bf>\u001b[0m in \u001b[0;36m<module>\u001b[1;34m\u001b[0m\n\u001b[0;32m      1\u001b[0m \u001b[0mpalabra\u001b[0m \u001b[1;33m=\u001b[0m \u001b[1;34m\"hola\"\u001b[0m\u001b[1;33m\u001b[0m\u001b[1;33m\u001b[0m\u001b[0m\n\u001b[1;32m----> 2\u001b[1;33m \u001b[0mprint\u001b[0m\u001b[1;33m(\u001b[0m\u001b[0mpalabra\u001b[0m\u001b[1;33m.\u001b[0m\u001b[0mlen\u001b[0m\u001b[1;33m(\u001b[0m\u001b[1;33m)\u001b[0m\u001b[1;33m)\u001b[0m\u001b[1;33m\u001b[0m\u001b[1;33m\u001b[0m\u001b[0m\n\u001b[0m",
      "\u001b[1;31mAttributeError\u001b[0m: 'str' object has no attribute 'len'"
     ]
    }
   ],
   "source": [
    "palabra = \"hola\"\n",
    "print(palabra.length())"
   ]
  },
  {
   "cell_type": "markdown",
   "metadata": {},
   "source": [
    "###### Ejercicio 2"
   ]
  },
  {
   "cell_type": "markdown",
   "metadata": {},
   "source": [
    "Un número entero positivo se dice que es perfecto si coincide con la suma de todos sus divisores propios (es decir, distintos de él mismo). Se pide definir una función `escribe_perfectos` que, dados dos números enteros positivos `m` $\\leq$ `n`, imprima por pantalla todos los números perfectos entre `m` y `n`. Se pide también que se indiquen los divisores de cada número perfecto que se imprima."
   ]
  },
  {
   "cell_type": "raw",
   "metadata": {},
   "source": [
    "Ejemplos:\n",
    "\n",
    "escribe_perfectos(1, 1000) debe escribir en pantalla:\n",
    "El número 6 es perfecto y sus divisores son [1, 2, 3]\n",
    "El número 28 es perfecto y sus divisores son [1, 2, 4, 7, 14]\n",
    "El número 496 es perfecto y sus divisores son [1, 2, 4, 8, 16, 31, 62, 124, 248]"
   ]
  },
  {
   "cell_type": "code",
   "execution_count": 29,
   "metadata": {
    "tags": []
   },
   "outputs": [
    {
     "name": "stdout",
     "output_type": "stream",
     "text": [
      "El número 6 es perfecto y sus divisores son [1, 2, 3]\n",
      "El número 28 es perfecto y sus divisores son [1, 2, 4, 7, 14]\n",
      "El número 496 es perfecto y sus divisores son [1, 2, 4, 8, 16, 31, 62, 124, 248]\n"
     ]
    }
   ],
   "source": [
    "def es_perfecto(x):\n",
    "    divisores = []\n",
    "    res = []\n",
    "    for i in range(1, x+1):\n",
    "        if x%i == 0 and i!=x:\n",
    "            divisores.append(i)\n",
    "    res.extend([sum(divisores) == x ,divisores])\n",
    "    return res\n",
    "\n",
    "def escribe_perfectos(x, y):\n",
    "    perfectos = []\n",
    "    for i in range (x,y+1):\n",
    "        if es_perfecto(i)[0]:\n",
    "            print(\"El número \"+str(i)+\" es perfecto y sus divisores son \"+str(es_perfecto(i)[1]))\n",
    "\n",
    "escribe_perfectos(1, 1000)            "
   ]
  },
  {
   "cell_type": "markdown",
   "metadata": {},
   "source": [
    "###### Ejercicio 3"
   ]
  },
  {
   "cell_type": "markdown",
   "metadata": {},
   "source": [
    "Consideremos diccionarios cuyas claves son cadenas de caracteres de longitud uno y los valores asociados son números enteros no negativos, como por ejemplo el siguiente diccionario `d`:"
   ]
  },
  {
   "cell_type": "code",
   "execution_count": 15,
   "metadata": {
    "tags": []
   },
   "outputs": [],
   "source": [
    "d = {'a': 5, 'b': 10, 'c': 12, 'd': 11, 'e': 15, 'f': 20, 'g': 15, 'h': 9, 'i': 7, 'j': 2}"
   ]
  },
  {
   "cell_type": "markdown",
   "metadata": {},
   "source": [
    "Se pide definir una función `histograma_horizontal` que, dado un diccionario del tipo anterior, escriba en pantalla el histograma de barras horizontales asociado, imprimiendo las barras de arriba a abajo en el orden que determina la función `sorted` sobre las claves, tal y como se ilustra en el siguiente ejemplo:"
   ]
  },
  {
   "cell_type": "raw",
   "metadata": {},
   "source": [
    "histograma_horizontal(d)\n",
    "a: *****\n",
    "b: **********\n",
    "c: ************\n",
    "d: ***********\n",
    "e: ***************\n",
    "f: ********************\n",
    "g: ***************\n",
    "h: *********\n",
    "i: *******\n",
    "j: **"
   ]
  },
  {
   "cell_type": "code",
   "execution_count": 47,
   "metadata": {
    "tags": []
   },
   "outputs": [
    {
     "name": "stdout",
     "output_type": "stream",
     "text": [
      "a: *****\n",
      "b: **********\n",
      "c: ************\n",
      "d: ***********\n",
      "e: ***************\n",
      "f: ********************\n",
      "g: ***************\n",
      "h: *********\n",
      "i: *******\n",
      "j: **\n"
     ]
    }
   ],
   "source": [
    "def histograma_horizontal(diccionario):\n",
    "    for c,v in sorted(diccionario.items()):\n",
    "        print(c+\": \"+v*\"*\")\n",
    "histograma_horizontal(d)"
   ]
  },
  {
   "cell_type": "markdown",
   "metadata": {},
   "source": [
    "Se pide definir una función `histograma_vertical` que, dado un diccionario del tipo anterior, escriba en pantalla el histograma de barras verticales asociado, imprimiendo las barras de izquierda a derecha en el orden que determina la función `sorted` sobre las claves, tal y como se ilustra en el siguiente ejemplo:"
   ]
  },
  {
   "cell_type": "raw",
   "metadata": {},
   "source": [
    "histograma_vertical(d)\n",
    "          *        \n",
    "          *        \n",
    "          *        \n",
    "          *        \n",
    "          *        \n",
    "        * * *      \n",
    "        * * *      \n",
    "        * * *      \n",
    "    *   * * *      \n",
    "    * * * * *      \n",
    "  * * * * * *      \n",
    "  * * * * * * *    \n",
    "  * * * * * * *    \n",
    "  * * * * * * * *  \n",
    "  * * * * * * * *  \n",
    "* * * * * * * * *  \n",
    "* * * * * * * * *  \n",
    "* * * * * * * * *  \n",
    "* * * * * * * * * *\n",
    "* * * * * * * * * *\n",
    "a b c d e f g h i j"
   ]
  },
  {
   "cell_type": "code",
   "execution_count": 53,
   "metadata": {
    "tags": []
   },
   "outputs": [
    {
     "name": "stdout",
     "output_type": "stream",
     "text": [
      "          *         \n",
      "          *         \n",
      "          *         \n",
      "          *         \n",
      "        * * *       \n",
      "        * * *       \n",
      "        * * *       \n",
      "    *   * * *       \n",
      "    * * * * *       \n",
      "  * * * * * *       \n",
      "  * * * * * * *     \n",
      "  * * * * * * *     \n",
      "  * * * * * * * *   \n",
      "  * * * * * * * *   \n",
      "* * * * * * * * *   \n",
      "* * * * * * * * *   \n",
      "* * * * * * * * *   \n",
      "* * * * * * * * * * \n",
      "* * * * * * * * * * \n",
      "* * * * * * * * * * \n",
      "a b c d e f g h i j\n"
     ]
    }
   ],
   "source": [
    "def histograma_vertical(diccionario):\n",
    "    max_altura = max(diccionario.values())\n",
    "    for h in reversed(range(0,max_altura)):\n",
    "        line=\"\"\n",
    "        for i in diccionario.values():\n",
    "            if i >= h:\n",
    "                line += \"* \"\n",
    "            else:\n",
    "                line += \"  \"\n",
    "        print(line)\n",
    "    names = list(diccionario.keys())\n",
    "    string_names = \" \".join(names)\n",
    "    print(string_names)\n",
    "    \n",
    "histograma_vertical(d)"
   ]
  },
  {
   "cell_type": "markdown",
   "metadata": {},
   "source": [
    "###### Ejercicio 4"
   ]
  },
  {
   "cell_type": "markdown",
   "metadata": {},
   "source": [
    "La profundidad de una lista anidada es el número máximo de anidamientos en la lista. Se pide definir una función `profundidad` que, dada una lista `l`, devuelva la profundidad de `l`.\n",
    "\n",
    "Indicación: para saber si un dato es una lista, puede que sea útil la función `isinstance`. En concreto, `isinstance(x, list)` comprueba si `x` es una lista."
   ]
  },
  {
   "cell_type": "raw",
   "metadata": {},
   "source": [
    "Ejemplos:\n",
    "\n",
    "profundidad(3) debe devolver 0\n",
    "profundidad([7, 5, 9, 5, 6]) debe devolver 1\n",
    "profundidad([1, [1, [1, [1, 1], 1], [1, 1]], 1]) debe devolver 4"
   ]
  },
  {
   "cell_type": "code",
   "execution_count": 104,
   "metadata": {},
   "outputs": [
    {
     "data": {
      "text/plain": [
       "'[7, 5, 9, 5, 6]'"
      ]
     },
     "execution_count": 104,
     "metadata": {},
     "output_type": "execute_result"
    }
   ],
   "source": []
  },
  {
   "cell_type": "code",
   "execution_count": 109,
   "metadata": {
    "tags": []
   },
   "outputs": [
    {
     "name": "stdout",
     "output_type": "stream",
     "text": [
      "0\n",
      "1\n",
      "4\n"
     ]
    }
   ],
   "source": [
    "def profundidad(l):\n",
    "    lista = str(l)\n",
    "    res = lista.count(\"[\")\n",
    "    if res > 1:\n",
    "        res -= 1\n",
    "    return res\n",
    "    \n",
    "print(profundidad(3))\n",
    "print(profundidad([7, 5, 9, 5, 6]))\n",
    "print(profundidad([1, [1, [1, [1, 1], 1], [1, 1]], 1]))"
   ]
  },
  {
   "cell_type": "markdown",
   "metadata": {},
   "source": [
    "###### Ejercicio 5"
   ]
  },
  {
   "cell_type": "markdown",
   "metadata": {},
   "source": [
    "Supongamos que queremos simular la trayectoria de un proyectil que se dispara en un punto dado a una determinada altura inicial. El disparo se realiza hacia adelante con una velocidad inicial y con un determinado ángulo. Inicialmente el proyectil avanzará subiendo, pero por la fuerza de la gravedad, en un momento dado empezará a bajar hasta que aterrice. Por simplificar, supondremos que no existe rozamiento ni resistencia del viento.\n",
    "\n",
    "Se pide definir una clase `Proyectil` que sirva para representar el estado del proyectil en un instante de tiempo dado. Para ello, se necesitan al menos atributos de datos que guarden la siguiente información:\n",
    "* Distancia recorrida (en horizontal)\n",
    "* Altura\n",
    "* Velocidad horizontal\n",
    "* Velocidad vertical\n",
    "\n",
    "Además, se pide dotar a la clase `Proyectil` de los siguientes tres métodos:\n",
    "* obtener_pos_x: devuelve la distancia horizontal recorrida \n",
    "* obtener_pos_y: devuelve la distancia vertical recorrida \n",
    "* `actualizar_posición`: dada una cantidad `t` de segundos, actualiza la posición y la velocidad del proyectil tras haber transcurrido ese tiempo\n",
    "\n",
    "Una vez definida la clase `Proyectil`, se pide definir una función `aterriza` que, dados los datos de `altura`, `velocidad`, `ángulo` e `intervalo`, imprima por pantalla las distintas posiciones por las que pasa un proyectil que se ha disparado con esa `velocidad`, `ángulo` (en grados) y una `altura` inicial. Se mostrará la posición del proyectil en cada `intervalo` de tiempo, hasta que aterriza. Además también debe imprimir la altura máxima que ha alcanzado al final de cada intervalo, cuántos intervalos de tiempo ha tardado en aterrizar y el alcance que ha tenido.\n",
    "\n",
    "Indicaciones:\n",
    "1. Si el proyectil tiene una velocidad inicial $v$ y se lanza con un ángulo $\\theta$, las componentes horizontal y vertical de la velocidad inicial son $v \\times \\cos(\\theta)$ y $v \\times \\sin(\\theta)$, respectivamente.\n",
    "2. La componente horizontal de la velocidad, en ausencia de rozamiento y viento, podemos suponer que permanece constante.\n",
    "3. La componente vertical de la velocidad cambia de la siguiente manera tras un intervalo de tiempo $t$: si $vy_0$ es la velocidad vertical al inicio del intervalo, entonces al final del intervalo tiene una velocidad $vy_1 = vy_0 - 9.8 \\times t$, debido a la gravedad de la Tierra.\n",
    "4. En ese caso, si el proyectil se encuentra a una altura $h_0$, tras un intervalo de tiempo $t$ se encontrará a una altura $h_1 = h_0 + vm  \\times t$, donde $vm$ es la media entre las anteriores $vy_0$ y $vy_1$."
   ]
  },
  {
   "cell_type": "raw",
   "metadata": {},
   "source": [
    "Ejemplo:\n",
    "\n",
    "aterriza(30, 1, 20, 0.1)\n",
    "Proyectil en posición(0.0, 30.0)\n",
    "Proyectil en posición(0.1, 30.0)\n",
    "Proyectil en posición(0.2, 29.9)\n",
    "Proyectil en posición(0.3, 29.7)\n",
    "Proyectil en posición(0.4, 29.4)\n",
    "Proyectil en posición(0.5, 28.9)\n",
    "Proyectil en posición(0.6, 28.4)\n",
    "Proyectil en posición(0.7, 27.8)\n",
    "Proyectil en posición(0.8, 27.1)\n",
    "Proyectil en posición(0.8, 26.3)\n",
    "Proyectil en posición(0.9, 25.4)\n",
    "Proyectil en posición(1.0, 24.4)\n",
    "Proyectil en posición(1.1, 23.4)\n",
    "Proyectil en posición(1.2, 22.2)\n",
    "Proyectil en posición(1.3, 20.9)\n",
    "Proyectil en posición(1.4, 19.5)\n",
    "Proyectil en posición(1.5, 18.0)\n",
    "Proyectil en posición(1.6, 16.4)\n",
    "Proyectil en posición(1.7, 14.7)\n",
    "Proyectil en posición(1.8, 13.0)\n",
    "Proyectil en posición(1.9, 11.1)\n",
    "Proyectil en posición(2.0, 9.1)\n",
    "Proyectil en posición(2.1, 7.0)\n",
    "Proyectil en posición(2.2, 4.9)\n",
    "Proyectil en posición(2.3, 2.6)\n",
    "Proyectil en posición(2.3, 0.2)\n",
    "\n",
    "Tras 26 intervalos de 0.1 segundos (2.6 segundos) el proyectil ha aterrizado.\n",
    "Ha recorrido una distancia de 2.4 metros\n",
    "Ha alcanzado una altura máxima de 30.0 metros"
   ]
  },
  {
   "cell_type": "code",
   "execution_count": 114,
   "metadata": {
    "tags": []
   },
   "outputs": [],
   "source": [
    "class proyectil(object):\n",
    "    def __init__(self, dist=0, h=0, vx=0, vy=0):\n",
    "        self.dist = dist\n",
    "        self.h = h\n",
    "        self.vx = vx\n",
    "        self.vy = vy\n",
    "    \n",
    "    def obtener_pos_x(self):\n",
    "        return self.dist\n",
    "    \n",
    "    def obtener_pos_y(self):\n",
    "        return self.h\n",
    "    \n",
    "    def actualiza_posicion(self, t):\n",
    "        result = []\n",
    "        vy0 = slef.vy\n",
    "        vy1 = vy0 = (9.8*t)\n",
    "        h1 = self.h+(((vy1+vy0)/2)*t)\n",
    "        result.append(h1)\n",
    "        result.append(vy1)\n",
    "        return result\n"
   ]
  }
 ],
 "metadata": {
  "kernelspec": {
   "display_name": "Python 3",
   "language": "python",
   "name": "python3"
  },
  "language_info": {
   "codemirror_mode": {
    "name": "ipython",
    "version": 3
   },
   "file_extension": ".py",
   "mimetype": "text/x-python",
   "name": "python",
   "nbconvert_exporter": "python",
   "pygments_lexer": "ipython3",
   "version": "3.7.3"
  }
 },
 "nbformat": 4,
 "nbformat_minor": 4
}
