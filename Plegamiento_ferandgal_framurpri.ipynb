{
 "cells": [
  {
   "cell_type": "markdown",
   "metadata": {},
   "source": [
    "# COLÁGENO E INSULINA, TOMA PROTEINA\n",
    "## PLEGAMIENTO DE PROTEÍNAS 2D"
   ]
  },
  {
   "cell_type": "markdown",
   "metadata": {},
   "source": [
    "### Realizado por: Fernando Andrés Galindo y Francisco Murillo Prior"
   ]
  },
  {
   "cell_type": "markdown",
   "metadata": {},
   "source": [
    "#### Objetivos\n",
    "• Comprender la teoría básica detrás del plegamiento de proteínas y la `paradoja de Levinthal`. Comparar estos conceptos con un problema de optimización.\n",
    "\n",
    "• Identificar las distintas disciplinas necesarias para estudiar la paradoja de Levinthal. Entender la importancia de la `multidisciplinariedad`.\n",
    "\n",
    "• Aprender a implementar un algoritmo en base a un modelo de plegamiento de proteínas 2D.\n",
    "\n",
    "• Realizar gráficos con pyplot para representar los plegamientos de proteínas 2D.\n",
    "\n",
    "• Aprender a usar la base de datos de proteínas `UNIPROT`.\n",
    "\n",
    "• Documentar el trabajo realizado usando un formato de artículo científico. \n",
    "\n",
    "• Realizar una presentación de los resultados obtenidos. "
   ]
  },
  {
   "cell_type": "markdown",
   "metadata": {},
   "source": [
    "Diccionario con los `20 aminoacidos` y sus correspondientes valores de la variación de `Energía libre`:"
   ]
  },
  {
   "cell_type": "code",
   "execution_count": 1,
   "metadata": {},
   "outputs": [
    {
     "name": "stdout",
     "output_type": "stream",
     "text": [
      "{'A': 1, 'C': 0.17, 'D': -3, 'E': -2.6, 'F': 2.5, 'G': 0.67, 'H': -1.7, 'I': 3.1, 'K': -4.6, 'L': 2.2, 'M': 1.1, 'N': -2.7, 'P': -0.29, 'Q': -2.9, 'R': -7.5, 'S': -1.1, 'T': -0.75, 'V': 2.3, 'W': 1.5, 'Y': 0.08}\n"
     ]
    }
   ],
   "source": [
    "Paa_deltaG = { \n",
    "'A': 1, # Alanine\n",
    "'C': 0.17, # Cysteine\n",
    "'D': -3, # Aspartic Acid\n",
    "'E': -2.6, # Glutamic Acid\n",
    "'F': 2.5, # Phenylalanine\n",
    "'G': 0.67, # Glycine\n",
    "'H': -1.7, # Histidine\n",
    "'I': 3.1, # Isoleucine\n",
    "'K': -4.6, # Lysine\n",
    "'L': 2.2, # Leucine\n",
    "'M': 1.1, # Methionine\n",
    "'N': -2.7, # Asparagine\n",
    "'P': -0.29,# Proline\n",
    "'Q': -2.9, # Glutamine\n",
    "'R': -7.5, # Arginine\n",
    "'S': -1.1, # Serine\n",
    "'T': -0.75,# Threonine\n",
    "'V': 2.3, # Valine\n",
    "'W': 1.5, # Tryptophan\n",
    "'Y': 0.08 # Tyrosine\n",
    " }\n",
    " \n",
    "print(Paa_deltaG)"
   ]
  },
  {
   "cell_type": "markdown",
   "metadata": {},
   "source": [
    "Clasificación de aminoácidos si son hidrofílicos (Energía libre < -1.5) o hidrofóbicos (Energía libre > -1.5)"
   ]
  },
  {
   "cell_type": "markdown",
   "metadata": {},
   "source": [
    "Proteinas sencillas seleccionadas: `insulina, colágeno y albúmina`"
   ]
  },
  {
   "cell_type": "markdown",
   "metadata": {},
   "source": [
    "### Ejercicio 1: Función Get Spatial Dic"
   ]
  },
  {
   "cell_type": "markdown",
   "metadata": {},
   "source": [
    "Se pide implementar una función `get_spatial_dic(protein, structure)` que recibe una cadena \n",
    "representando una proteína (letras de aminoácidos) y otra cadena representando su estructura \n",
    "(I para el aminoácido inicial, N, S, E o W según la posición relativa de un aminoácido con respecto \n",
    "al anterior) y devuelve un diccionario o un diccionario vacío si existen solapamientos. Las claves \n",
    "de dicho diccionario serán tuplas de dos números enteros representando `coordenadas`\n",
    "espaciales y los valores serán letras de aminoácidos."
   ]
  },
  {
   "cell_type": "code",
   "execution_count": 2,
   "metadata": {
    "tags": []
   },
   "outputs": [],
   "source": [
    "def get_spatial_dic(protein, structure): #AHURGBXZ #INWESNEW\n",
    "    res = {}\n",
    "    if len(protein) != len(structure):\n",
    "        return \"ERROR: The size of the protein and structure must be the same\"\n",
    "    coordenadas = [0,0]\n",
    "    res[tuple(coordenadas)] = protein[0]\n",
    "    protein = list(protein)\n",
    "    structure = list(structure)\n",
    "    data = zip(protein,structure)\n",
    "    for i in data:\n",
    "        if i[1] == 'N':\n",
    "            coordenadas[1] += 1\n",
    "            if res.keys().__contains__(tuple(coordenadas)):\n",
    "                return {}\n",
    "            res[tuple(coordenadas)] = i[0]\n",
    "        elif i[1] == 'S':\n",
    "            coordenadas[1] -= 1\n",
    "            if res.keys().__contains__(tuple(coordenadas)):\n",
    "                return {}\n",
    "            res[tuple(coordenadas)] = i[0]\n",
    "        elif i[1] == 'E':\n",
    "            coordenadas[0] += 1\n",
    "            if res.keys().__contains__(tuple(coordenadas)):\n",
    "                return {}\n",
    "            res[tuple(coordenadas)] = i[0]\n",
    "        elif i[1] == 'W':\n",
    "            coordenadas[0] -= 1\n",
    "            if res.keys().__contains__(tuple(coordenadas)):\n",
    "                return {}\n",
    "            res[tuple(coordenadas)] = i[0]\n",
    "    return res"
   ]
  },
  {
   "cell_type": "code",
   "execution_count": 3,
   "metadata": {},
   "outputs": [
    {
     "data": {
      "text/plain": [
       "{(0, 0): 'P',\n",
       " (1, 0): 'E',\n",
       " (2, 0): 'P',\n",
       " (2, 1): 'T',\n",
       " (2, 2): 'I',\n",
       " (1, 2): 'D',\n",
       " (1, 1): 'E'}"
      ]
     },
     "execution_count": 3,
     "metadata": {},
     "output_type": "execute_result"
    }
   ],
   "source": [
    "protein = get_spatial_dic(\"PEPTIDE\", \"IEENNWS\")\n",
    "protein"
   ]
  },
  {
   "cell_type": "markdown",
   "metadata": {},
   "source": [
    "### Ejercicio 2"
   ]
  },
  {
   "cell_type": "markdown",
   "metadata": {},
   "source": [
    "Se pide implementar una función is_hydrophobic(aa"
   ]
  },
  {
   "cell_type": "code",
   "execution_count": 4,
   "metadata": {},
   "outputs": [],
   "source": [
    "def is_hydrofobic(aa):\n",
    "    res = False\n",
    "    for aminoacido, energia in Paa_deltaG.items():\n",
    "        if aminoacido == aa:\n",
    "            res = energia > -1.5\n",
    "    return res"
   ]
  },
  {
   "cell_type": "code",
   "execution_count": 5,
   "metadata": {},
   "outputs": [
    {
     "data": {
      "text/plain": [
       "True"
      ]
     },
     "execution_count": 5,
     "metadata": {},
     "output_type": "execute_result"
    }
   ],
   "source": [
    "is_hydrofobic('S')"
   ]
  },
  {
   "cell_type": "markdown",
   "metadata": {},
   "source": [
    "Se pide implementar una función `get_score(dic)` que reciba un diccionario representando la estructura espacial de una proteína y devuelva su puntuación. La puntuación de un aminoácido será ΔG * N (si el aminoácido no es hidrofóbico) y ΔG * N + 10 * N (si el aminoácido es hidrofóbico). Siendo N el número de posiciones adyacentes libres."
   ]
  },
  {
   "cell_type": "markdown",
   "metadata": {},
   "source": [
    "Creamos una función auxiliar `get_adyacent_position` que nos calcula el valor de N, es decir las posiciones adyacentes libres de cada uno de los aminoácidos."
   ]
  },
  {
   "cell_type": "code",
   "execution_count": 104,
   "metadata": {
    "tags": []
   },
   "outputs": [],
   "source": [
    "def get_adyacent_positions(coordenada,dic):\n",
    "    coordenadasBase = []\n",
    "    for i in dic.keys():\n",
    "        coordenadasBase.append(i)\n",
    "    n = 4\n",
    "    coordenadaN = (coordenada[0],coordenada[1]+1)\n",
    "    coordenadaS = (coordenada[0],coordenada[1]-1)\n",
    "    coordenadaE = (coordenada[0]+1,coordenada[1])\n",
    "    coordenadaW = (coordenada[0]-1,coordenada[1])\n",
    "    coordenadasLibres = [coordenadaN, coordenadaS, coordenadaE, coordenadaW]\n",
    "    for i in coordenadasLibres:\n",
    "        if i in coordenadasBase:\n",
    "            n -= 1\n",
    "    return n"
   ]
  },
  {
   "cell_type": "code",
   "execution_count": 105,
   "metadata": {},
   "outputs": [
    {
     "data": {
      "text/plain": [
       "72.80000000000001"
      ]
     },
     "execution_count": 105,
     "metadata": {},
     "output_type": "execute_result"
    }
   ],
   "source": [
    "def get_score(protein):\n",
    "    res = 0.0\n",
    "    for clave, valor in protein.items():\n",
    "        if is_hydrofobic(valor):\n",
    "            res += Paa_deltaG.get(valor) * get_adyacent_positions(clave,protein) + 10 * get_adyacent_positions(clave,protein)\n",
    "        else:\n",
    "            res += Paa_deltaG.get(valor) * get_adyacent_positions(clave,protein)\n",
    "    return res\n",
    "\n",
    "get_score(get_spatial_dic('PEPTIDE','IEENNWS'))"
   ]
  },
  {
   "cell_type": "markdown",
   "metadata": {},
   "source": [
    "### Ejercicio 3"
   ]
  },
  {
   "cell_type": "markdown",
   "metadata": {},
   "source": [
    "Se pide implementar una función fold(structure, pos, angle) que recibe una estructura, una \n",
    "posición de plegado (desde donde se comienza a plegar) y el ángulo que puede ser 90 o –90"
   ]
  },
  {
   "cell_type": "code",
   "execution_count": 8,
   "metadata": {},
   "outputs": [
    {
     "data": {
      "text/plain": [
       "'IEEESSS'"
      ]
     },
     "execution_count": 8,
     "metadata": {},
     "output_type": "execute_result"
    }
   ],
   "source": [
    "def fold(structure, pos, angle):\n",
    "    newStructure = structure[:pos]\n",
    "    for i in structure[pos:]:\n",
    "        if angle == 90:\n",
    "            if i == 'N':\n",
    "                newStructure += 'W'\n",
    "            elif i == 'S':\n",
    "                newStructure += 'E'\n",
    "            elif i == 'E':\n",
    "                newStructure += 'N'\n",
    "            elif i == 'W':\n",
    "                newStructure += 'S'\n",
    "        else:\n",
    "            if i == 'N':\n",
    "                newStructure += 'E'\n",
    "            elif i == 'S':\n",
    "                newStructure += 'W'\n",
    "            elif i == 'E':\n",
    "                newStructure += 'S'\n",
    "            elif i== 'W':\n",
    "                newStructure += 'N'\n",
    "    return newStructure\n",
    "\n",
    "fold('IEEEEEE',4,-90)"
   ]
  },
  {
   "cell_type": "markdown",
   "metadata": {},
   "source": [
    "Se pide implementar una función `get_successors(protein,structure)` que, dada una proteína y su estructura, devuelva un diccionario cuyas claves son todas las posibles estructuras válidas tras aplicar todos los posibles plegamientos y cuyos valores sean los correspondientes diccionarios espaciales obtenidos con `get_spatial_dic`. "
   ]
  },
  {
   "cell_type": "code",
   "execution_count": 106,
   "metadata": {},
   "outputs": [
    {
     "data": {
      "text/plain": [
       "{'ISSENNE': {(0, 0): 'P',\n",
       "  (0, -1): 'E',\n",
       "  (0, -2): 'P',\n",
       "  (1, -2): 'T',\n",
       "  (1, -1): 'I',\n",
       "  (1, 0): 'D',\n",
       "  (2, 0): 'E'},\n",
       " 'INNWSSW': {(0, 0): 'P',\n",
       "  (0, 1): 'E',\n",
       "  (0, 2): 'P',\n",
       "  (-1, 2): 'T',\n",
       "  (-1, 1): 'I',\n",
       "  (-1, 0): 'D',\n",
       "  (-2, 0): 'E'},\n",
       " 'IESENNE': {(0, 0): 'P',\n",
       "  (1, 0): 'E',\n",
       "  (1, -1): 'P',\n",
       "  (2, -1): 'T',\n",
       "  (2, 0): 'I',\n",
       "  (2, 1): 'D',\n",
       "  (3, 1): 'E'},\n",
       " 'IEEENNE': {(0, 0): 'P',\n",
       "  (1, 0): 'E',\n",
       "  (2, 0): 'P',\n",
       "  (3, 0): 'T',\n",
       "  (3, 1): 'I',\n",
       "  (3, 2): 'D',\n",
       "  (4, 2): 'E'},\n",
       " 'IEENNNE': {(0, 0): 'P',\n",
       "  (1, 0): 'E',\n",
       "  (2, 0): 'P',\n",
       "  (2, 1): 'T',\n",
       "  (2, 2): 'I',\n",
       "  (2, 3): 'D',\n",
       "  (3, 3): 'E'},\n",
       " 'IEENWNE': {(0, 0): 'P',\n",
       "  (1, 0): 'E',\n",
       "  (2, 0): 'P',\n",
       "  (2, 1): 'T',\n",
       "  (1, 1): 'I',\n",
       "  (1, 2): 'D',\n",
       "  (2, 2): 'E'},\n",
       " 'IEENWWW': {(0, 0): 'P',\n",
       "  (1, 0): 'E',\n",
       "  (2, 0): 'P',\n",
       "  (2, 1): 'T',\n",
       "  (1, 1): 'I',\n",
       "  (0, 1): 'D',\n",
       "  (-1, 1): 'E'}}"
      ]
     },
     "execution_count": 106,
     "metadata": {},
     "output_type": "execute_result"
    }
   ],
   "source": [
    "def get_successors(protein, structure):\n",
    "    res = {}\n",
    "    i = 1\n",
    "    while i < len(protein):\n",
    "        if(len(get_spatial_dic(protein,fold(structure,i,-90))) != 0):\n",
    "            res[fold(structure,i,-90)] = get_spatial_dic(protein,fold(structure,i,-90))\n",
    "        if(len(get_spatial_dic(protein,fold(structure,i,90))) != 0):\n",
    "            res[fold(structure,i,90)] = get_spatial_dic(protein,fold(structure,i,90))\n",
    "        i += 1\n",
    "    return res\n",
    "import random\n",
    "get_successors('PEPTIDE','IEENWWN')"
   ]
  },
  {
   "cell_type": "markdown",
   "metadata": {},
   "source": [
    "### Ejercicio 4 "
   ]
  },
  {
   "cell_type": "markdown",
   "metadata": {},
   "source": [
    "Usando las funciones creadas en los problemas anteriores, implementa el algoritmo de `Enfriamiento Simulado (Simmulating Annealing)` para resolver el problema del plegado 2D como un problema de optimización."
   ]
  },
  {
   "cell_type": "code",
   "execution_count": 334,
   "metadata": {},
   "outputs": [],
   "source": [
    "import random\n",
    "import math\n",
    "\n",
    "#Los parámetros de entrada son la cadena de la proteína, la temperratura inicial y el parámetro alpha que será\n",
    "#de cuánto en cuánto irá disminuyendo la temperatura en cada iteración.\n",
    "def simulated_annealing(protein,temp_init,alpha_parameter): \n",
    "    \n",
    "    initial_temp = temp_init\n",
    "    final_temp = 0\n",
    "    alpha = alpha_parameter\n",
    "\n",
    "    current_temp = initial_temp\n",
    "\n",
    "    current_structure = generate_initial_structure(protein)\n",
    "    solution = current_structure\n",
    "\n",
    "    while current_temp > final_temp:\n",
    "        lista = []\n",
    "        for c,v in get_successors(protein, current_structure).items():\n",
    "            lista.append(v)\n",
    "        nxt = random.choice(lista) #Siguiente vecino aleatorio obtenido de los sucesores\n",
    "        neighbor = get_sequence_from_structure(nxt)\n",
    "        \n",
    "        diff = get_score(get_spatial_dic(protein,current_structure)) - get_score(get_spatial_dic(protein,neighbor))\n",
    "\n",
    "        if diff > 0: #Si la diferencia es negativa, significa que es mejor por tanto nos quedamos con ese\n",
    "            solution = neighbor\n",
    "            current_structure = neighbor\n",
    "        else:\n",
    "            if random.uniform(0.0, 1.0) < math.exp(diff / current_temp): #Aunque el siguiente es peor no hay porqué descartarlo\n",
    "                solution = neighbor\n",
    "                current_structure = neighbor\n",
    "        current_temp -= alpha\n",
    "\n",
    "    return solution"
   ]
  },
  {
   "cell_type": "markdown",
   "metadata": {},
   "source": [
    "### Ejercicio 5\n",
    "    "
   ]
  },
  {
   "cell_type": "markdown",
   "metadata": {},
   "source": [
    "Se pide hacer una representación gráfica de las estructuras 2D resultante con pyplot. Coloreando \n",
    "de distinto color los aminoácidos dependiendo de si son hidrofóbicos o no"
   ]
  },
  {
   "cell_type": "code",
   "execution_count": 379,
   "metadata": {
    "scrolled": true
   },
   "outputs": [],
   "source": [
    "import matplotlib.pyplot as plt\n",
    "def show_protein(protein, structure, markersize, sizeX, sizeY):\n",
    "    diccionario = get_spatial_dic(protein, structure)\n",
    "    puntos = []\n",
    "    hidrofobicos = []\n",
    "    for clave,valor in diccionario.items():\n",
    "        puntos.append(clave)\n",
    "        if is_hydrofobic(valor):\n",
    "            hidrofobicos.append(clave)\n",
    "    coordenadasX = []\n",
    "    coordenadasY = []\n",
    "    for p in puntos:\n",
    "        coordenadasX.append(p[0])\n",
    "        coordenadasY.append(p[1])\n",
    "    hidrofobicosX = []\n",
    "    hidrofobicosY = []\n",
    "    for h in hidrofobicos:\n",
    "        hidrofobicosX.append(h[0])\n",
    "        hidrofobicosY.append(h[1])\n",
    "    plt.plot(coordenadasX, coordenadasY, 'black', linewidth = 2)\n",
    "    plt.plot(coordenadasX, coordenadasY, 'bp', marker=\".\", markersize=markersize)\n",
    "    plt.plot(hidrofobicosX, hidrofobicosY, 'gp', marker=\".\", markersize=markersize)\n",
    "    plt.grid()\n",
    "    plt.xlabel('Eje X')\n",
    "    plt.ylabel('Eje Y')\n",
    "    plt.title('ESTRUCTURA DE PLEGADO ELEGIDA')\n",
    "    plt.xticks(range(min(coordenadasX),max(coordenadasX)+1))\n",
    "    plt.yticks(range(min(coordenadasY),max(coordenadasY)+1))\n",
    "    plt.rcParams[\"figure.figsize\"] = (sizeX, sizeY)"
   ]
  },
  {
   "cell_type": "markdown",
   "metadata": {},
   "source": [
    "### Generar estructura aleatoria\n",
    "Definimos una función que dada una proteína nos obtenga una estructura inicial válida para empezar desde esa base a iterar y conseguir la que tenga menor energía libre. En nuestro caso será una línea recta hacia el este."
   ]
  },
  {
   "cell_type": "code",
   "execution_count": 308,
   "metadata": {},
   "outputs": [
    {
     "data": {
      "image/png": "[encoded data removed]",
      "text/plain": [
       "<Figure size 288x288 with 1 Axes>"
      ]
     },
     "metadata": {
      "needs_background": "light"
     },
     "output_type": "display_data"
    }
   ],
   "source": [
    "import random\n",
    "def generate_initial_structure(protein):\n",
    "    i = 1\n",
    "    estructura = 'I'\n",
    "    while i < len(protein):\n",
    "        estructura += 'E'\n",
    "        i += 1\n",
    "    return estructura\n",
    "\n",
    "struct = generate_initial_structure('PEPTIDE')\n",
    "show_protein('PEPTIDE',struct,20,2,2)"
   ]
  },
  {
   "cell_type": "markdown",
   "metadata": {},
   "source": [
    "Las siguientes funciones sirven para las diferetnes representaciones.\n",
    "La primera `show_structure` recibe como parametro un sucesor de una proteína, mientras que `show_sucesores` recibe como parametro toda la lista de sucesores y utiliza la función anterior para mostrar cada uno de ellos"
   ]
  },
  {
   "cell_type": "code",
   "execution_count": 309,
   "metadata": {
    "scrolled": true
   },
   "outputs": [
    {
     "data": {
      "image/png": "[encoded data removed]",
      "text/plain": [
       "<Figure size 144x144 with 1 Axes>"
      ]
     },
     "metadata": {
      "needs_background": "light"
     },
     "output_type": "display_data"
    },
    {
     "data": {
      "image/png": "[encoded data removed]",
      "text/plain": [
       "<Figure size 144x144 with 1 Axes>"
      ]
     },
     "metadata": {
      "needs_background": "light"
     },
     "output_type": "display_data"
    },
    {
     "data": {
      "image/png": "[encoded data removed]",
      "text/plain": [
       "<Figure size 144x144 with 1 Axes>"
      ]
     },
     "metadata": {
      "needs_background": "light"
     },
     "output_type": "display_data"
    },
    {
     "data": {
      "image/png": "[encoded data removed]",
      "text/plain": [
       "<Figure size 144x144 with 1 Axes>"
      ]
     },
     "metadata": {
      "needs_background": "light"
     },
     "output_type": "display_data"
    },
    {
     "data": {
      "image/png": "[encoded data removed]",
      "text/plain": [
       "<Figure size 144x144 with 1 Axes>"
      ]
     },
     "metadata": {
      "needs_background": "light"
     },
     "output_type": "display_data"
    },
    {
     "data": {
      "image/png": "[encoded data removed]",
      "text/plain": [
       "<Figure size 144x144 with 1 Axes>"
      ]
     },
     "metadata": {
      "needs_background": "light"
     },
     "output_type": "display_data"
    },
    {
     "data": {
      "image/png": "[encoded data removed]",
      "text/plain": [
       "<Figure size 144x144 with 1 Axes>"
      ]
     },
     "metadata": {
      "needs_background": "light"
     },
     "output_type": "display_data"
    },
    {
     "data": {
      "text/plain": [
       "<Figure size 144x144 with 0 Axes>"
      ]
     },
     "metadata": {},
     "output_type": "display_data"
    }
   ],
   "source": [
    "import matplotlib.pyplot as plt\n",
    "def show_structure(sucessor):\n",
    "    coordenadasX = []\n",
    "    coordenadasY = []\n",
    "    hidrofobicosX = []\n",
    "    hidrofobicosY = []\n",
    "    for coordenada, aminoacido in sucessor[1].items():\n",
    "        coordenadasX.append(coordenada[0])\n",
    "        coordenadasY.append(coordenada[1])\n",
    "        if(is_hydrofobic(aminoacido)):\n",
    "            hidrofobicosX.append(coordenada[0])\n",
    "            hidrofobicosY.append(coordenada[1])\n",
    "    plt.plot(coordenadasX, coordenadasY, 'black', linewidth = 2)\n",
    "    plt.plot(coordenadasX, coordenadasY, 'bp', marker=\".\", markersize=12)\n",
    "    plt.plot(hidrofobicosX, hidrofobicosY, 'gp', marker=\".\", markersize=12)\n",
    "    plt.grid()\n",
    "\n",
    "def show_sucesores(sucesores):\n",
    "    for sucesor in sucesores.items():\n",
    "        plt.figure(show_structure(sucesor))\n",
    "\n",
    "show_sucesores(get_successors('PEPTIDE', 'IEENWWN'))"
   ]
  },
  {
   "cell_type": "markdown",
   "metadata": {},
   "source": [
    "La función auxiliar `get_sequence_from_structure` obtiene la cadena de direcciones de una proteina dada la estructura como diccionario espacial.\n",
    "\n",
    "Ej: Entrada {(0,0):'P',(0,1):'E',(1,1):'P',(1,2):'T'}\n",
    "\n",
    "Salida: 'IENE'"
   ]
  },
  {
   "cell_type": "code",
   "execution_count": 310,
   "metadata": {},
   "outputs": [
    {
     "data": {
      "text/plain": [
       "'IEEEEEE'"
      ]
     },
     "execution_count": 310,
     "metadata": {},
     "output_type": "execute_result"
    }
   ],
   "source": [
    "def get_sequence_from_structure(structure):\n",
    "    res = 'I'\n",
    "    coordenadas = [c for c,v in structure.items()]\n",
    "    i = 1\n",
    "    inicial = (0,0)\n",
    "    for xy in coordenadas[1:]:\n",
    "        if(xy[0]-inicial[0] == 1):\n",
    "            res += 'E'\n",
    "            inicial = xy\n",
    "        elif(xy[0]-inicial[0] == -1):\n",
    "            res += 'W'\n",
    "            inicial = xy\n",
    "        elif(xy[1]-inicial[1] == 1):\n",
    "            res += 'N'\n",
    "            inicial = xy\n",
    "        elif(xy[1]-inicial[1] == -1):\n",
    "            res += 'S'\n",
    "            inicial = xy\n",
    "    return res\n",
    "    \n",
    "get_sequence_from_structure(get_spatial_dic('PEPTIDE','IEEEEEE'))"
   ]
  },
  {
   "cell_type": "markdown",
   "metadata": {},
   "source": [
    "Función auxiliar para obtener la cadena de aminoácidos a partir del diccionario espacial"
   ]
  },
  {
   "cell_type": "code",
   "execution_count": 311,
   "metadata": {},
   "outputs": [],
   "source": [
    "def get_protein_name(structure):\n",
    "    proteina = ''\n",
    "    for clave,valor in structure.items():\n",
    "        proteina += valor\n",
    "    return proteina"
   ]
  },
  {
   "cell_type": "markdown",
   "metadata": {},
   "source": [
    "A continuación para cada uno de las proteiínas simples elegidas y obtenidas de la base de datos UNIPROT vamos a inicializar sus estructuras a una línea recta, es decir todas las coordenadas 'E' y vamos a obtener los sucesores de cada una de ellas y representarlos."
   ]
  },
  {
   "cell_type": "markdown",
   "metadata": {},
   "source": [
    "# Insulina"
   ]
  },
  {
   "cell_type": "code",
   "execution_count": 351,
   "metadata": {},
   "outputs": [
    {
     "name": "stdout",
     "output_type": "stream",
     "text": [
      "PUNTUACION: 500.1299999999999\n"
     ]
    },
    {
     "data": {
      "image/png": "[encoded data removed]",
      "text/plain": [
       "<Figure size 432x576 with 1 Axes>"
      ]
     },
     "metadata": {
      "needs_background": "light"
     },
     "output_type": "display_data"
    }
   ],
   "source": [
    "insulina = 'MALWMRLLPLLALLALWGPDPAAAFVNQHLCGSHLVEALYLVCGERGFFYTPKTRREAEDLQVGQVELGGGPGAGSLQPLALEGSLQKRGIVEQCCTSICSLYQLENYCN'\n",
    "sol = simulated_annealing(insulina,120,0.01)\n",
    "print('PUNTUACION: '+str(get_score(get_spatial_dic(insulina,sol))))\n",
    "show_protein(insulina, sol,13,6,8)\n"
   ]
  },
  {
   "cell_type": "code",
   "execution_count": 387,
   "metadata": {},
   "outputs": [
    {
     "data": {
      "text/plain": [
       "1619.3600000000004"
      ]
     },
     "execution_count": 387,
     "metadata": {},
     "output_type": "execute_result"
    }
   ],
   "source": [
    "get_score(get_spatial_dic(glycophorin,generate_initial_structure(glycophorin)))"
   ]
  },
  {
   "cell_type": "markdown",
   "metadata": {},
   "source": [
    "# Colágeno"
   ]
  },
  {
   "cell_type": "code",
   "execution_count": 360,
   "metadata": {
    "scrolled": true
   },
   "outputs": [
    {
     "name": "stdout",
     "output_type": "stream",
     "text": [
      "PUNTUACION: 233.16000000000003\n"
     ]
    },
    {
     "data": {
      "image/png": "[encoded data removed]",
      "text/plain": [
       "<Figure size 360x432 with 1 Axes>"
      ]
     },
     "metadata": {
      "needs_background": "light"
     },
     "output_type": "display_data"
    }
   ],
   "source": [
    "colageno = 'MDVHTRWKARSALRPGAPLLPPLLLLLLWAPPPSRA'\n",
    "sol = simulated_annealing(colageno,100,0.01)\n",
    "print('PUNTUACION: '+str(get_score(get_spatial_dic(colageno,sol))))\n",
    "show_protein(colageno, sol,20,5,6)"
   ]
  },
  {
   "cell_type": "markdown",
   "metadata": {},
   "source": [
    "# Glycophorin-B"
   ]
  },
  {
   "cell_type": "code",
   "execution_count": 381,
   "metadata": {},
   "outputs": [
    {
     "name": "stdout",
     "output_type": "stream",
     "text": [
      "PUNTUACION: 517.48\n"
     ]
    },
    {
     "data": {
      "image/png": "[encoded data removed]",
      "text/plain": [
       "<Figure size 432x576 with 1 Axes>"
      ]
     },
     "metadata": {
      "needs_background": "light"
     },
     "output_type": "display_data"
    }
   ],
   "source": [
    "glycophorin = 'MYGKIIFVLLLSEIVSISALSTTEVAMHTSTSSSVTKSYISSQTNGETGQLVHRFTVPAPVVIILIILCVMAGIIGTILLISYSIRRLIKA'\n",
    "sol = simulated_annealing(glycophorin,100,0.01)\n",
    "print('PUNTUACION: '+str(get_score(get_spatial_dic(glycophorin,sol))))\n",
    "show_protein(glycophorin, sol,13,6,8)"
   ]
  },
  {
   "cell_type": "markdown",
   "metadata": {},
   "source": [
    "# Elastina"
   ]
  },
  {
   "cell_type": "code",
   "execution_count": 380,
   "metadata": {},
   "outputs": [
    {
     "name": "stdout",
     "output_type": "stream",
     "text": [
      "PUNTUACION: 388.16999999999996\n"
     ]
    },
    {
     "data": {
      "image/png": "[encoded data removed]",
      "text/plain": [
       "<Figure size 432x576 with 1 Axes>"
      ]
     },
     "metadata": {
      "needs_background": "light"
     },
     "output_type": "display_data"
    }
   ],
   "source": [
    "elastina = 'ATSLTLLTVAAGGLLSAPVGLGIAGLALVPIIIARTRVPA'\n",
    "sol = simulated_annealing(elastina,100,0.01)\n",
    "print('PUNTUACION: '+str(get_score(get_spatial_dic(elastina,sol))))\n",
    "show_protein(elastina, sol,17,6,8)"
   ]
  }
 ],
 "metadata": {
  "kernelspec": {
   "display_name": "Python 3",
   "language": "python",
   "name": "python3"
  }
 },
 "nbformat": 4,
 "nbformat_minor": 4
}
