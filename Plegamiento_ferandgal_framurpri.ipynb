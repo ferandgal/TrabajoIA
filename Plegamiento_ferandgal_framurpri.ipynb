{
 "cells": [
  {
   "cell_type": "markdown",
   "metadata": {},
   "source": [
    "# PLEGAMIENTO DE PROTEÍNAS 2D"
   ]
  },
  {
   "cell_type": "markdown",
   "metadata": {},
   "source": [
    "### Realizado por: Fernando Andrés Galindo y Francisco Murillo Prior"
   ]
  },
  {
   "cell_type": "markdown",
   "metadata": {},
   "source": [
    "#### Objetivos\n",
    "• Comprender la teoría básica detrás del plegamiento de proteínas y la `paradoja de Levinthal`. Comparar estos conceptos con un problema de optimización.\n",
    "\n",
    "• Identificar las distintas disciplinas necesarias para estudiar la paradoja de Levinthal. Entender la importancia de la `multidisciplinariedad`.\n",
    "\n",
    "• Aprender a implementar un algoritmo en base a un modelo de plegamiento de proteínas 2D.\n",
    "\n",
    "• Realizar gráficos con pyplot para representar los plegamientos de proteínas 2D.\n",
    "\n",
    "• Aprender a usar la base de datos de proteínas `UNIPROT`.\n",
    "\n",
    "• Documentar el trabajo realizado usando un formato de artículo científico. \n",
    "\n",
    "• Realizar una presentación de los resultados obtenidos. "
   ]
  },
  {
   "cell_type": "markdown",
   "metadata": {},
   "source": [
    "Diccionario con los `20 aminoacidos` y sus correspondientes valores de la variación de `Energía libre`:"
   ]
  },
  {
   "cell_type": "code",
   "execution_count": 40,
   "metadata": {},
   "outputs": [
    {
     "name": "stdout",
     "output_type": "stream",
     "text": [
      "{'A': 1, 'C': 0.17, 'D': -3, 'E': -2.6, 'F': 2.5, 'G': 0.67, 'H': -1.7, 'I': 3.1, 'K': -4.6, 'L': 2.2, 'M': 1.1, 'N': -2.7, 'P': -0.29, 'Q': -2.9, 'R': -7.5, 'S': -1.1, 'T': -0.75, 'V': 2.3, 'W': 1.5, 'Y': 0.08}\n"
     ]
    }
   ],
   "source": [
    "Paa_deltaG = { \n",
    "'A': 1, # Alanine\n",
    "'C': 0.17, # Cysteine\n",
    "'D': -3, # Aspartic Acid\n",
    "'E': -2.6, # Glutamic Acid\n",
    "'F': 2.5, # Phenylalanine\n",
    "'G': 0.67, # Glycine\n",
    "'H': -1.7, # Histidine\n",
    "'I': 3.1, # Isoleucine\n",
    "'K': -4.6, # Lysine\n",
    "'L': 2.2, # Leucine\n",
    "'M': 1.1, # Methionine\n",
    "'N': -2.7, # Asparagine\n",
    "'P': -0.29,# Proline\n",
    "'Q': -2.9, # Glutamine\n",
    "'R': -7.5, # Arginine\n",
    "'S': -1.1, # Serine\n",
    "'T': -0.75,# Threonine\n",
    "'V': 2.3, # Valine\n",
    "'W': 1.5, # Tryptophan\n",
    "'Y': 0.08 # Tyrosine\n",
    " }\n",
    " \n",
    "print(Paa_deltaG)"
   ]
  },
  {
   "cell_type": "markdown",
   "metadata": {},
   "source": [
    "Clasificación de aminoácidos si son hidrofílicos (Energía libre < -1.5) o hidrofóbicos (Energía libre > -1.5)"
   ]
  },
  {
   "cell_type": "markdown",
   "metadata": {},
   "source": [
    "Proteinas sencillas seleccionadas: insulina, colágeno y albúmina"
   ]
  },
  {
   "cell_type": "markdown",
   "metadata": {},
   "source": [
    "### Ejercicio 1: Función Get Spatial Dic"
   ]
  },
  {
   "cell_type": "markdown",
   "metadata": {},
   "source": [
    "Se pide implementar una función `get_spatial_dic(protein, structure)` que recibe una cadena \n",
    "representando una proteína (letras de aminoácidos) y otra cadena representando su estructura \n",
    "(I para el aminoácido inicial, N, S, E o W según la posición relativa de un aminoácido con respecto \n",
    "al anterior) y devuelve un diccionario o un diccionario vacío si existen solapamientos. Las claves \n",
    "de dicho diccionario serán tuplas de dos números enteros representando `coordenadas`\n",
    "espaciales y los valores serán letras de aminoácidos."
   ]
  },
  {
   "cell_type": "code",
   "execution_count": 111,
   "metadata": {
    "tags": []
   },
   "outputs": [],
   "source": [
    "def get_spatial_dic(protein, structure): #AHURGBXZ #INWESNEW\n",
    "    res = {}\n",
    "    if len(protein) != len(structure):\n",
    "        return \"ERROR: The size of the protein and structure must be the same\"\n",
    "    coordenadas = [0,0]\n",
    "    res[tuple(coordenadas)] = protein[0]\n",
    "    protein = list(protein)\n",
    "    structure = list(structure)\n",
    "    data = zip(protein,structure)\n",
    "    for i in data:\n",
    "        if i[1] == 'N':\n",
    "            coordenadas[1] += 1\n",
    "            if res.keys().__contains__(tuple(coordenadas)):\n",
    "                return {}\n",
    "            res[tuple(coordenadas)] = i[0]\n",
    "        elif i[1] == 'S':\n",
    "            coordenadas[1] -= 1\n",
    "            if res.keys().__contains__(tuple(coordenadas)):\n",
    "                return {}\n",
    "            res[tuple(coordenadas)] = i[0]\n",
    "        elif i[1] == 'E':\n",
    "            coordenadas[0] += 1\n",
    "            if res.keys().__contains__(tuple(coordenadas)):\n",
    "                return {}\n",
    "            res[tuple(coordenadas)] = i[0]\n",
    "        elif i[1] == 'W':\n",
    "            coordenadas[0] -= 1\n",
    "            if res.keys().__contains__(tuple(coordenadas)):\n",
    "                return {}\n",
    "            res[tuple(coordenadas)] = i[0]\n",
    "    return res"
   ]
  },
  {
   "cell_type": "code",
   "execution_count": 112,
   "metadata": {},
   "outputs": [
    {
     "data": {
      "text/plain": [
       "{(0, 0): 'A',\n",
       " (1, 0): 'H',\n",
       " (1, -1): 'S',\n",
       " (0, -1): 'R',\n",
       " (-1, -1): 'T',\n",
       " (-1, 0): 'W',\n",
       " (-2, 0): 'Q',\n",
       " (-2, 1): 'P',\n",
       " (-1, 1): 'M',\n",
       " (-1, 2): 'S',\n",
       " (0, 2): 'C',\n",
       " (0, 3): 'C',\n",
       " (-1, 3): 'F',\n",
       " (-1, 4): 'G',\n",
       " (0, 4): 'N',\n",
       " (1, 4): 'L',\n",
       " (1, 3): 'Y',\n",
       " (1, 2): 'E',\n",
       " (1, 1): 'D',\n",
       " (0, 1): 'P'}"
      ]
     },
     "execution_count": 112,
     "metadata": {},
     "output_type": "execute_result"
    }
   ],
   "source": [
    "protein = get_spatial_dic(\"AHSRTWQPMSCCFGNLYEDP\", \"IESWWNWNENENWNEESSSW\")\n",
    "protein"
   ]
  },
  {
   "cell_type": "markdown",
   "metadata": {},
   "source": [
    "### Ejercicio 2"
   ]
  },
  {
   "cell_type": "markdown",
   "metadata": {},
   "source": [
    "Se pide implementar una función is_hydrophobic(aa"
   ]
  },
  {
   "cell_type": "code",
   "execution_count": 80,
   "metadata": {},
   "outputs": [],
   "source": [
    "def is_hydrofobic(aa):\n",
    "    res = False\n",
    "    for aminoacido, energia in Paa_deltaG.items():\n",
    "        if aminoacido == aa:\n",
    "            res = energia > -1.5\n",
    "    return res"
   ]
  },
  {
   "cell_type": "code",
   "execution_count": 81,
   "metadata": {},
   "outputs": [
    {
     "data": {
      "text/plain": [
       "True"
      ]
     },
     "execution_count": 81,
     "metadata": {},
     "output_type": "execute_result"
    }
   ],
   "source": [
    "is_hydrofobic('S')"
   ]
  },
  {
   "cell_type": "markdown",
   "metadata": {},
   "source": [
    "Se pide implementar una función `get_score(dic)` que reciba un diccionario representando la estructura espacial de una proteína y devuelva su puntuación. La puntuación de un aminoácido será ΔG * N (si el aminoácido no es hidrofóbico) y ΔG * N + 10 * N (si el aminoácido es hidrofóbico). Siendo N el número de posiciones adyacentes libres."
   ]
  },
  {
   "cell_type": "markdown",
   "metadata": {},
   "source": [
    "Creamos una función auxiliar `get_adyacent_position` que nos calcula el valor de N, es decir las posiciones adyacentes libres de cada uno de los aminoácidos."
   ]
  },
  {
   "cell_type": "code",
   "execution_count": 82,
   "metadata": {
    "tags": []
   },
   "outputs": [],
   "source": [
    "def get_adyacent_positions(coordenada,dic):\n",
    "    coordenadasBase = []\n",
    "    for i in dic.keys():\n",
    "        coordenadasBase.append(i)\n",
    "    n = 4\n",
    "    coordenadaN = (coordenada[0],coordenada[1]+1)\n",
    "    coordenadaS = (coordenada[0],coordenada[1]-1)\n",
    "    coordenadaE = (coordenada[0]+1,coordenada[1])\n",
    "    coordenadaW = (coordenada[0]-1,coordenada[1]+1)\n",
    "    coordenadasLibres = [coordenadaN, coordenadaS, coordenadaE, coordenadaW]\n",
    "    for i in coordenadasLibres:\n",
    "        if i in coordenadasBase:\n",
    "            n -= 1\n",
    "    return n"
   ]
  },
  {
   "cell_type": "code",
   "execution_count": 101,
   "metadata": {},
   "outputs": [
    {
     "data": {
      "text/plain": [
       "83.30000000000001"
      ]
     },
     "execution_count": 101,
     "metadata": {},
     "output_type": "execute_result"
    }
   ],
   "source": [
    "def get_score(protein):\n",
    "    res = 0.0\n",
    "    for clave, valor in protein.items():\n",
    "        if is_hydrofobic(valor):\n",
    "            res += Paa_deltaG.get(valor) * get_adyacent_positions(clave,protein) + 10 * get_adyacent_positions(clave,protein)\n",
    "        else:\n",
    "            res += Paa_deltaG.get(valor) * get_adyacent_positions(clave,protein)\n",
    "    return res\n",
    "\n",
    "get_score(protein)\n",
    "get_score(get_spatial_dic('PEPTIDE','IEENNWS'))"
   ]
  },
  {
   "cell_type": "markdown",
   "metadata": {},
   "source": [
    "### Ejercicio 3"
   ]
  },
  {
   "cell_type": "markdown",
   "metadata": {},
   "source": [
    "Se pide implementar una función fold(structure, pos, angle) que recibe una estructura, una \n",
    "posición de plegado (desde donde se comienza a plegar) y el ángulo que puede ser 90 o –90"
   ]
  },
  {
   "cell_type": "code",
   "execution_count": 119,
   "metadata": {},
   "outputs": [
    {
     "data": {
      "text/plain": [
       "'PNN'"
      ]
     },
     "execution_count": 119,
     "metadata": {},
     "output_type": "execute_result"
    }
   ],
   "source": [
    "def fold(structure, pos, angle):\n",
    "    newStructure = structure[:pos]\n",
    "    for i in structure[pos:]:\n",
    "        if angle == 90:\n",
    "            if i == 'N':\n",
    "                newStructure += 'W'\n",
    "            elif i == 'S':\n",
    "                newStructure += 'E'\n",
    "            elif i == 'E':\n",
    "                newStructure += 'N'\n",
    "            elif i == 'W':\n",
    "                newStructure += 'S'\n",
    "        else:\n",
    "            if i == 'N':\n",
    "                newStructure += 'E'\n",
    "            elif i == 'S':\n",
    "                newStructure += 'W'\n",
    "            elif i == 'E':\n",
    "                newStructure += 'S'\n",
    "            elif i== 'W':\n",
    "                newStructure += 'N'\n",
    "    return newStructure\n",
    "\n",
    "fold('IEEEEEE',4,-90)"
   ]
  },
  {
   "cell_type": "markdown",
   "metadata": {},
   "source": [
    "Se pide implementar una función `get_successors(protein,structure)` que, dada una proteína y su estructura, devuelva un diccionario cuyas claves son todas las posibles estructuras válidas tras aplicar todos los posibles plegamientos y cuyos valores sean los correspondientes diccionarios espaciales obtenidos con `get_spatial_dic`. "
   ]
  },
  {
   "cell_type": "code",
   "execution_count": 130,
   "metadata": {},
   "outputs": [
    {
     "data": {
      "text/plain": [
       "{'ISSENNE': {(0, 0): 'P',\n",
       "  (0, -1): 'E',\n",
       "  (0, -2): 'P',\n",
       "  (1, -2): 'T',\n",
       "  (1, -1): 'I',\n",
       "  (1, 0): 'D',\n",
       "  (2, 0): 'E'},\n",
       " 'INNWSSW': {(0, 0): 'P',\n",
       "  (0, 1): 'E',\n",
       "  (0, 2): 'P',\n",
       "  (-1, 2): 'T',\n",
       "  (-1, 1): 'I',\n",
       "  (-1, 0): 'D',\n",
       "  (-2, 0): 'E'},\n",
       " 'IESENNE': {(0, 0): 'P',\n",
       "  (1, 0): 'E',\n",
       "  (1, -1): 'P',\n",
       "  (2, -1): 'T',\n",
       "  (2, 0): 'I',\n",
       "  (2, 1): 'D',\n",
       "  (3, 1): 'E'},\n",
       " 'IENWSSW': {},\n",
       " 'IEEENNE': {(0, 0): 'P',\n",
       "  (1, 0): 'E',\n",
       "  (2, 0): 'P',\n",
       "  (3, 0): 'T',\n",
       "  (3, 1): 'I',\n",
       "  (3, 2): 'D',\n",
       "  (4, 2): 'E'},\n",
       " 'IEEWSSW': {},\n",
       " 'IEENNNE': {(0, 0): 'P',\n",
       "  (1, 0): 'E',\n",
       "  (2, 0): 'P',\n",
       "  (2, 1): 'T',\n",
       "  (2, 2): 'I',\n",
       "  (2, 3): 'D',\n",
       "  (3, 3): 'E'},\n",
       " 'IEENSSW': {},\n",
       " 'IEENWNE': {(0, 0): 'P',\n",
       "  (1, 0): 'E',\n",
       "  (2, 0): 'P',\n",
       "  (2, 1): 'T',\n",
       "  (1, 1): 'I',\n",
       "  (1, 2): 'D',\n",
       "  (2, 2): 'E'},\n",
       " 'IEENWSW': {},\n",
       " 'IEENWWE': {},\n",
       " 'IEENWWW': {(0, 0): 'P',\n",
       "  (1, 0): 'E',\n",
       "  (2, 0): 'P',\n",
       "  (2, 1): 'T',\n",
       "  (1, 1): 'I',\n",
       "  (0, 1): 'D',\n",
       "  (-1, 1): 'E'},\n",
       " 'IEENWWN': {(0, 0): 'P',\n",
       "  (1, 0): 'E',\n",
       "  (2, 0): 'P',\n",
       "  (2, 1): 'T',\n",
       "  (1, 1): 'I',\n",
       "  (0, 1): 'D',\n",
       "  (0, 2): 'E'}}"
      ]
     },
     "execution_count": 130,
     "metadata": {},
     "output_type": "execute_result"
    }
   ],
   "source": [
    "def get_successors(protein, structure):\n",
    "    res = {}\n",
    "    i = 1\n",
    "    while i <= len(protein):\n",
    "        if(len(get_spatial_dic(protein,fold(structure,i,-90))) != 0  len(get_spatial_dic(protein,fold(structure,i,90))) != 0):\n",
    "            res[fold(structure,i,-90)] = get_spatial_dic(protein,fold(structure,i,-90))\n",
    "            res[fold(structure,i,90)] = get_spatial_dic(protein,fold(structure,i,90))\n",
    "        i += 1\n",
    "    return res\n",
    "get_successors('PEPTIDE','IEENWWN')"
   ]
  },
  {
   "cell_type": "code",
   "execution_count": 126,
   "metadata": {},
   "outputs": [
    {
     "data": {
      "text/plain": [
       "0"
      ]
     },
     "execution_count": 126,
     "metadata": {},
     "output_type": "execute_result"
    }
   ],
   "source": [
    "dic = {}\n",
    "len(dic)"
   ]
  },
  {
   "cell_type": "markdown",
   "metadata": {},
   "source": [
    "### Ejercicio 5\n",
    "    "
   ]
  },
  {
   "cell_type": "markdown",
   "metadata": {},
   "source": [
    "Se pide hacer una representación gráfica de las estructuras 2D resultante con pyplot. Coloreando \n",
    "de distinto color los aminoácidos dependiendo de si son hidrofóbicos o no"
   ]
  },
  {
   "cell_type": "code",
   "execution_count": 114,
   "metadata": {},
   "outputs": [
    {
     "data": {
      "image/png": "[encoded data removed]",
      "text/plain": [
       "<Figure size 432x288 with 1 Axes>"
      ]
     },
     "metadata": {
      "needs_background": "light"
     },
     "output_type": "display_data"
    }
   ],
   "source": [
    "import matplotlib.pyplot as plt\n",
    "puntos = []\n",
    "hidrofobicos = []\n",
    "for clave,valor in protein.items():\n",
    "    puntos.append(clave)\n",
    "    if is_hydrofobic(valor):\n",
    "        hidrofobicos.append(clave)\n",
    "coordenadasX = []\n",
    "coordenadasY = []\n",
    "for p in puntos:\n",
    "    coordenadasX.append(p[0])\n",
    "    coordenadasY.append(p[1])\n",
    "hidrofobicosX = []\n",
    "hidrofobicosY = []\n",
    "for h in hidrofobicos:\n",
    "    hidrofobicosX.append(h[0])\n",
    "    hidrofobicosY.append(h[1])\n",
    "plt.plot(coordenadasX, coordenadasY, 'black')\n",
    "plt.plot(coordenadasX, coordenadasY, 'rp')\n",
    "plt.plot(hidrofobicosX, hidrofobicosY, 'gp')\n",
    "plt.grid()"
   ]
  }
 ],
 "metadata": {
  "kernelspec": {
   "display_name": "Python 3",
   "language": "python",
   "name": "python3"
  },
  "language_info": {
   "codemirror_mode": {
    "name": "ipython",
    "version": 3
   },
   "file_extension": ".py",
   "mimetype": "text/x-python",
   "name": "python",
   "nbconvert_exporter": "python",
   "pygments_lexer": "ipython3",
   "version": "3.8.5"
  }
 },
 "nbformat": 4,
 "nbformat_minor": 4
}
